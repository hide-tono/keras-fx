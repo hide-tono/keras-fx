{
 "cells": [
  {
   "cell_type": "code",
   "execution_count": 14,
   "metadata": {
    "collapsed": false
   },
   "outputs": [
    {
     "data": {
      "text/html": [
       "<div>\n",
       "<table border=\"1\" class=\"dataframe\">\n",
       "  <thead>\n",
       "    <tr style=\"text-align: right;\">\n",
       "      <th></th>\n",
       "      <th>datetime</th>\n",
       "      <th>o</th>\n",
       "      <th>h</th>\n",
       "      <th>l</th>\n",
       "      <th>c</th>\n",
       "      <th>v</th>\n",
       "    </tr>\n",
       "    <tr>\n",
       "      <th>datetime</th>\n",
       "      <th></th>\n",
       "      <th></th>\n",
       "      <th></th>\n",
       "      <th></th>\n",
       "      <th></th>\n",
       "      <th></th>\n",
       "    </tr>\n",
       "  </thead>\n",
       "  <tbody>\n",
       "    <tr>\n",
       "      <th>2017-06-01 00:00:00</th>\n",
       "      <td>2017-06-01 00:00:00</td>\n",
       "      <td>1.12467</td>\n",
       "      <td>1.12467</td>\n",
       "      <td>1.12457</td>\n",
       "      <td>1.12457</td>\n",
       "      <td>0</td>\n",
       "    </tr>\n",
       "    <tr>\n",
       "      <th>2017-06-01 00:01:00</th>\n",
       "      <td>2017-06-01 00:01:00</td>\n",
       "      <td>1.12456</td>\n",
       "      <td>1.12465</td>\n",
       "      <td>1.12456</td>\n",
       "      <td>1.12462</td>\n",
       "      <td>0</td>\n",
       "    </tr>\n",
       "    <tr>\n",
       "      <th>2017-06-01 00:02:00</th>\n",
       "      <td>2017-06-01 00:02:00</td>\n",
       "      <td>1.12464</td>\n",
       "      <td>1.12464</td>\n",
       "      <td>1.12456</td>\n",
       "      <td>1.12456</td>\n",
       "      <td>0</td>\n",
       "    </tr>\n",
       "    <tr>\n",
       "      <th>2017-06-01 00:03:00</th>\n",
       "      <td>2017-06-01 00:03:00</td>\n",
       "      <td>1.12455</td>\n",
       "      <td>1.12455</td>\n",
       "      <td>1.12450</td>\n",
       "      <td>1.12450</td>\n",
       "      <td>0</td>\n",
       "    </tr>\n",
       "    <tr>\n",
       "      <th>2017-06-01 00:04:00</th>\n",
       "      <td>2017-06-01 00:04:00</td>\n",
       "      <td>1.12450</td>\n",
       "      <td>1.12450</td>\n",
       "      <td>1.12450</td>\n",
       "      <td>1.12450</td>\n",
       "      <td>0</td>\n",
       "    </tr>\n",
       "  </tbody>\n",
       "</table>\n",
       "</div>"
      ],
      "text/plain": [
       "                               datetime        o        h        l        c  v\n",
       "datetime                                                                      \n",
       "2017-06-01 00:00:00 2017-06-01 00:00:00  1.12467  1.12467  1.12457  1.12457  0\n",
       "2017-06-01 00:01:00 2017-06-01 00:01:00  1.12456  1.12465  1.12456  1.12462  0\n",
       "2017-06-01 00:02:00 2017-06-01 00:02:00  1.12464  1.12464  1.12456  1.12456  0\n",
       "2017-06-01 00:03:00 2017-06-01 00:03:00  1.12455  1.12455  1.12450  1.12450  0\n",
       "2017-06-01 00:04:00 2017-06-01 00:04:00  1.12450  1.12450  1.12450  1.12450  0"
      ]
     },
     "execution_count": 14,
     "metadata": {},
     "output_type": "execute_result"
    }
   ],
   "source": [
    "import pandas as pd\n",
    "\n",
    "df = pd.read_csv('DAT_MT_EURUSD_M1_201706.csv', \n",
    "                 names=['date','time','o','h','l','c','v'],\n",
    "                 parse_dates={'datetime':['date', 'time']}, \n",
    "                 )\n",
    "df.index = df['datetime']\n",
    "\n",
    "df.head()"
   ]
  },
  {
   "cell_type": "code",
   "execution_count": 46,
   "metadata": {
    "collapsed": false
   },
   "outputs": [
    {
     "data": {
      "image/png": "[encoded data removed]",
      "text/plain": [
       "<matplotlib.figure.Figure at 0x2481e7cc278>"
      ]
     },
     "metadata": {},
     "output_type": "display_data"
    },
    {
     "name": "stdout",
     "output_type": "stream",
     "text": [
      "finished\n"
     ]
    }
   ],
   "source": [
    "import matplotlib.pyplot as plt\n",
    "import matplotlib.finance as mpf\n",
    "import numpy as np\n",
    "from matplotlib.dates import date2num\n",
    "\n",
    "df = df[-100:]\n",
    "\n",
    "fig = plt.figure()\n",
    "ax = plt.subplot()\n",
    "\n",
    "data = np.column_stack((date2num(df.index.to_pydatetime()),df['o'], df['c'], df['h'], df['l']))\n",
    "\n",
    "mpf.candlestick_ohlc(ax,data, width=0.7, colorup='g',colordown='r')\n",
    "ax.grid()\n",
    "fig.autofmt_xdate()\n",
    "plt.show()\n",
    "print('finished')"
   ]
  },
  {
   "cell_type": "code",
   "execution_count": 38,
   "metadata": {
    "collapsed": false
   },
   "outputs": [
    {
     "name": "stdout",
     "output_type": "stream",
     "text": [
      "[[ 0  0]\n",
      " [ 1  1]\n",
      " [ 2  2]\n",
      " [ 3  3]\n",
      " [ 4  4]\n",
      " [ 5  5]\n",
      " [ 6  6]\n",
      " [ 7  7]\n",
      " [ 8  8]\n",
      " [ 9  9]\n",
      " [10 10]\n",
      " [11 11]]\n"
     ]
    }
   ],
   "source": [
    "arr = np.arange(12)\n",
    "arr1 = np.arange(12)\n",
    "print(np.column_stack((arr,arr1)))\n",
    "# print(np.concatenate([arr,arr1], axis=1))"
   ]
  },
  {
   "cell_type": "code",
   "execution_count": null,
   "metadata": {
    "collapsed": true
   },
   "outputs": [],
   "source": []
  }
 ],
 "metadata": {
  "anaconda-cloud": {},
  "kernelspec": {
   "display_name": "Python [conda root]",
   "language": "python",
   "name": "conda-root-py"
  },
  "language_info": {
   "codemirror_mode": {
    "name": "ipython",
    "version": 3
   },
   "file_extension": ".py",
   "mimetype": "text/x-python",
   "name": "python",
   "nbconvert_exporter": "python",
   "pygments_lexer": "ipython3",
   "version": "3.5.2"
  }
 },
 "nbformat": 4,
 "nbformat_minor": 1
}
